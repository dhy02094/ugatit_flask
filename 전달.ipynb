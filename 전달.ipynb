{
 "cells": [
  {
   "cell_type": "code",
   "execution_count": 10,
   "id": "37f73003",
   "metadata": {},
   "outputs": [],
   "source": [
    "import numpy as np\n",
    "import requests\n",
    "import json"
   ]
  },
  {
   "cell_type": "code",
   "execution_count": 11,
   "id": "d18bf4fe",
   "metadata": {},
   "outputs": [
    {
     "name": "stdout",
     "output_type": "stream",
     "text": [
      "{'file': <_io.BufferedReader name='C:/Users/user/Desktop/thsel.jpg'>}\n",
      "<Response [200]>\n"
     ]
    }
   ],
   "source": [
    "import requests\n",
    "files = open(\"C:/Users/user/Desktop/thsel.jpg\", 'rb')\n",
    "upload = {'file': files}\n",
    "print(upload)\n",
    "res = requests.post('http://127.0.0.1:5000/predict', files = upload)\n",
    "\n",
    "print(res)#request.files['key']"
   ]
  },
  {
   "cell_type": "code",
   "execution_count": 9,
   "id": "fe8899ba",
   "metadata": {},
   "outputs": [
    {
     "name": "stdout",
     "output_type": "stream",
     "text": [
      "{'file': 'http://127.0.0.1:8000/media/ani_images/hg.jpg'}\n",
      "<Response [500]>\n"
     ]
    }
   ],
   "source": [
    "import requests\n",
    "files = 'http://127.0.0.1:8000/media/ani_images/hg.jpg'\n",
    "upload = {'file': files}\n",
    "print(upload)\n",
    "res = requests.post('http://127.0.0.1:5000/predict', files = upload)\n",
    "\n",
    "print(res)#request.files['key']"
   ]
  },
  {
   "cell_type": "code",
   "execution_count": null,
   "id": "06db2fc4",
   "metadata": {},
   "outputs": [],
   "source": [
    "{% url 'ani:fileupload' %}"
   ]
  }
 ],
 "metadata": {
  "kernelspec": {
   "display_name": "Python 3 (ipykernel)",
   "language": "python",
   "name": "python3"
  },
  "language_info": {
   "codemirror_mode": {
    "name": "ipython",
    "version": 3
   },
   "file_extension": ".py",
   "mimetype": "text/x-python",
   "name": "python",
   "nbconvert_exporter": "python",
   "pygments_lexer": "ipython3",
   "version": "3.7.0"
  }
 },
 "nbformat": 4,
 "nbformat_minor": 5
}
